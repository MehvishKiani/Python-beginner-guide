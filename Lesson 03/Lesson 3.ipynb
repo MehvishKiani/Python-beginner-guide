{
 "cells": [
  {
   "cell_type": "code",
   "execution_count": 2,
   "id": "40e85d08",
   "metadata": {},
   "outputs": [],
   "source": [
    "a= 10 \n",
    "b =30"
   ]
  },
  {
   "cell_type": "markdown",
   "id": "2609c8a4",
   "metadata": {},
   "source": [
    "Arithmetic Operator(+,-,*,/)"
   ]
  },
  {
   "cell_type": "code",
   "execution_count": 3,
   "id": "6e126242",
   "metadata": {},
   "outputs": [
    {
     "name": "stdout",
     "output_type": "stream",
     "text": [
      "Addition : 40\n",
      "Subtraction : -20\n",
      "Multiplication : 300\n",
      "division : 0.3333333333333333\n"
     ]
    }
   ],
   "source": [
    "print( \"Addition :\" ,a+b)\n",
    "print( \"Subtraction :\" ,a-b)\n",
    "print( \"Multiplication :\" ,a*b)\n",
    "print( \"division :\" ,a/b)"
   ]
  },
  {
   "cell_type": "markdown",
   "id": "a1b7e543",
   "metadata": {},
   "source": [
    "Relational Operator (< ,>,==,!=)"
   ]
  },
  {
   "cell_type": "code",
   "execution_count": 5,
   "id": "32ecd190",
   "metadata": {},
   "outputs": [
    {
     "name": "stdout",
     "output_type": "stream",
     "text": [
      "Less than : True\n",
      "Greater than : False\n",
      "Equal Equal to : False\n",
      " Not Equal To : True\n"
     ]
    }
   ],
   "source": [
    "print( \"Less than :\" ,a<b)\n",
    "print( \"Greater than :\" ,a>b)\n",
    "print( \"Equal Equal to :\" ,a==b)\n",
    "print( \" Not Equal To :\" ,a!=b)"
   ]
  },
  {
   "cell_type": "markdown",
   "id": "b0845519",
   "metadata": {},
   "source": [
    "Logical Operator ( & , |)"
   ]
  },
  {
   "cell_type": "code",
   "execution_count": 14,
   "id": "bb0c235e",
   "metadata": {},
   "outputs": [],
   "source": [
    "a = True\n",
    "b = False"
   ]
  },
  {
   "cell_type": "code",
   "execution_count": 19,
   "id": "829d9819",
   "metadata": {},
   "outputs": [
    {
     "data": {
      "text/plain": [
       "False"
      ]
     },
     "execution_count": 19,
     "metadata": {},
     "output_type": "execute_result"
    }
   ],
   "source": [
    "# And Operator ( when both values are true it is Ture)\n",
    "a & a\n",
    "a & b"
   ]
  },
  {
   "cell_type": "code",
   "execution_count": 21,
   "id": "baac5027",
   "metadata": {},
   "outputs": [
    {
     "data": {
      "text/plain": [
       "True"
      ]
     },
     "execution_count": 21,
     "metadata": {},
     "output_type": "execute_result"
    }
   ],
   "source": [
    "#Or Operator (When Either value is ture it is true)\n",
    "a | b\n",
    "a | a"
   ]
  },
  {
   "cell_type": "markdown",
   "id": "0e04be36",
   "metadata": {},
   "source": [
    "Tokens in Python"
   ]
  },
  {
   "cell_type": "code",
   "execution_count": 1,
   "id": "b389c963",
   "metadata": {},
   "outputs": [
    {
     "name": "stdout",
     "output_type": "stream",
     "text": [
      "Yes\n"
     ]
    }
   ],
   "source": [
    "if 5 > 3:\n",
    "    print(\"Yes\")"
   ]
  }
 ],
 "metadata": {
  "kernelspec": {
   "display_name": "Python 3",
   "language": "python",
   "name": "python3"
  },
  "language_info": {
   "codemirror_mode": {
    "name": "ipython",
    "version": 3
   },
   "file_extension": ".py",
   "mimetype": "text/x-python",
   "name": "python",
   "nbconvert_exporter": "python",
   "pygments_lexer": "ipython3",
   "version": "3.10.11"
  }
 },
 "nbformat": 4,
 "nbformat_minor": 5
}
