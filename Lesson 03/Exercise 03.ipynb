{
 "cells": [
  {
   "cell_type": "markdown",
   "id": "f3bcaca9",
   "metadata": {},
   "source": [
    "Exercise 01"
   ]
  },
  {
   "cell_type": "code",
   "execution_count": 1,
   "id": "22c161f5",
   "metadata": {},
   "outputs": [
    {
     "name": "stdout",
     "output_type": "stream",
     "text": [
      "Not divisible by both\n"
     ]
    }
   ],
   "source": [
    "#Write a program to check if a number is divisible by both 2 and 3\n",
    "num = int(input(\"Enter a number: \"))\n",
    "if num % 2 == 0 and num % 3 == 0:\n",
    "    print(\"Divisible by both 2 and 3\")\n",
    "else:\n",
    "    print(\"Not divisible by both\")"
   ]
  },
  {
   "cell_type": "markdown",
   "id": "98478215",
   "metadata": {},
   "source": [
    "Exercise 02"
   ]
  },
  {
   "cell_type": "code",
   "execution_count": 2,
   "id": "c9071465",
   "metadata": {},
   "outputs": [
    {
     "name": "stdout",
     "output_type": "stream",
     "text": [
      "b is greater\n"
     ]
    }
   ],
   "source": [
    "#Ask the user for two numbers and compare them (greater, smaller, equal)\n",
    "a = int(input(\"Enter first: \"))\n",
    "b = int(input(\"Enter second: \"))\n",
    "if a > b:\n",
    "    print(\"a is greater\")\n",
    "elif a < b:\n",
    "    print(\"b is greater\")\n",
    "else:\n",
    "    print(\"Both equal\")\n"
   ]
  },
  {
   "cell_type": "markdown",
   "id": "a69923aa",
   "metadata": {},
   "source": [
    "Exercise 03"
   ]
  },
  {
   "cell_type": "code",
   "execution_count": 3,
   "id": "764005cc",
   "metadata": {},
   "outputs": [
    {
     "name": "stdout",
     "output_type": "stream",
     "text": [
      "True\n",
      "True\n",
      "False\n"
     ]
    }
   ],
   "source": [
    "#Demonstrate `and`, `or`, `not` using conditions\n",
    "\n",
    "x = 5\n",
    "print(x > 3 and x < 10)\n",
    "print(x > 10 or x == 5)\n",
    "print(not(x == 5))\n"
   ]
  },
  {
   "cell_type": "code",
   "execution_count": null,
   "id": "1ab7d2d8",
   "metadata": {},
   "outputs": [],
   "source": []
  }
 ],
 "metadata": {
  "kernelspec": {
   "display_name": "Python 3",
   "language": "python",
   "name": "python3"
  },
  "language_info": {
   "codemirror_mode": {
    "name": "ipython",
    "version": 3
   },
   "file_extension": ".py",
   "mimetype": "text/x-python",
   "name": "python",
   "nbconvert_exporter": "python",
   "pygments_lexer": "ipython3",
   "version": "3.10.11"
  }
 },
 "nbformat": 4,
 "nbformat_minor": 5
}
