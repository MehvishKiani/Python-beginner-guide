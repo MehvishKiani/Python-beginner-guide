{
 "cells": [
  {
   "cell_type": "markdown",
   "id": "4c0728af",
   "metadata": {},
   "source": [
    "S = \" Hello world\"\n",
    "print(\"S)"
   ]
  },
  {
   "cell_type": "code",
   "execution_count": 2,
   "id": "58e70e38",
   "metadata": {},
   "outputs": [
    {
     "name": "stdout",
     "output_type": "stream",
     "text": [
      " Hello world\n"
     ]
    },
    {
     "data": {
      "text/plain": [
       "str"
      ]
     },
     "execution_count": 2,
     "metadata": {},
     "output_type": "execute_result"
    }
   ],
   "source": [
    "S = \" Hello world\"\n",
    "print(S)\n",
    "type (S)"
   ]
  },
  {
   "cell_type": "code",
   "execution_count": 4,
   "id": "9401419b",
   "metadata": {},
   "outputs": [
    {
     "name": "stdout",
     "output_type": "stream",
     "text": [
      " 123 \n"
     ]
    },
    {
     "data": {
      "text/plain": [
       "str"
      ]
     },
     "execution_count": 4,
     "metadata": {},
     "output_type": "execute_result"
    }
   ],
   "source": [
    "S = \" 123 \"\n",
    "print(S)\n",
    "type (S)"
   ]
  },
  {
   "cell_type": "code",
   "execution_count": 7,
   "id": "6e776e79",
   "metadata": {},
   "outputs": [],
   "source": [
    "s1= \"My name is Mehvish kiani\""
   ]
  },
  {
   "cell_type": "code",
   "execution_count": null,
   "id": "fc2459ce",
   "metadata": {},
   "outputs": [
    {
     "data": {
      "text/plain": [
       "'name'"
      ]
     },
     "execution_count": 14,
     "metadata": {},
     "output_type": "execute_result"
    }
   ],
   "source": [
    "#Extracting first digit\n",
    "s1[0]\n"
   ]
  },
  {
   "cell_type": "code",
   "execution_count": 15,
   "id": "3efaea00",
   "metadata": {},
   "outputs": [
    {
     "data": {
      "text/plain": [
       "'i'"
      ]
     },
     "execution_count": 15,
     "metadata": {},
     "output_type": "execute_result"
    }
   ],
   "source": [
    "# Extracting last digit\n",
    "s1[-1]"
   ]
  },
  {
   "cell_type": "code",
   "execution_count": 16,
   "id": "9a9fe436",
   "metadata": {},
   "outputs": [
    {
     "data": {
      "text/plain": [
       "'name'"
      ]
     },
     "execution_count": 16,
     "metadata": {},
     "output_type": "execute_result"
    }
   ],
   "source": [
    "# Extrating digit between 3 and 7 \n",
    "s1[ 3:7]"
   ]
  },
  {
   "cell_type": "code",
   "execution_count": null,
   "id": "0969b3a5",
   "metadata": {},
   "outputs": [
    {
     "data": {
      "text/plain": [
       "'MY NAME IS MEHVISH KIANI'"
      ]
     },
     "execution_count": 17,
     "metadata": {},
     "output_type": "execute_result"
    }
   ],
   "source": [
    "# Convert string into upper case\n",
    "s1.upper()"
   ]
  },
  {
   "cell_type": "code",
   "execution_count": null,
   "id": "104d889c",
   "metadata": {},
   "outputs": [
    {
     "data": {
      "text/plain": [
       "'my name is mehvish kiani'"
      ]
     },
     "execution_count": 18,
     "metadata": {},
     "output_type": "execute_result"
    }
   ],
   "source": [
    "# Convert String itno lower case\n",
    "s1.lower()"
   ]
  },
  {
   "cell_type": "code",
   "execution_count": null,
   "id": "9f1114fb",
   "metadata": {},
   "outputs": [
    {
     "data": {
      "text/plain": [
       "'My name is Mehvish kiani'"
      ]
     },
     "execution_count": 20,
     "metadata": {},
     "output_type": "execute_result"
    }
   ],
   "source": [
    "# Replace string \n",
    "s1.replace ( \"Kiani\", \"Khan\")"
   ]
  },
  {
   "cell_type": "code",
   "execution_count": 21,
   "id": "b5dda3ea",
   "metadata": {},
   "outputs": [
    {
     "data": {
      "text/plain": [
       "1"
      ]
     },
     "execution_count": 21,
     "metadata": {},
     "output_type": "execute_result"
    }
   ],
   "source": [
    "# Count String\n",
    "s1.count('Mehvish')"
   ]
  },
  {
   "cell_type": "code",
   "execution_count": 23,
   "id": "ee427758",
   "metadata": {},
   "outputs": [
    {
     "data": {
      "text/plain": [
       "13"
      ]
     },
     "execution_count": 23,
     "metadata": {},
     "output_type": "execute_result"
    }
   ],
   "source": [
    "# Finding index\n",
    "s1.find(\"h\")"
   ]
  },
  {
   "cell_type": "code",
   "execution_count": null,
   "id": "b4f9ec8a",
   "metadata": {},
   "outputs": [
    {
     "data": {
      "text/plain": [
       "['My', 'name', 'is', 'Mehvish', 'kiani']"
      ]
     },
     "execution_count": 25,
     "metadata": {},
     "output_type": "execute_result"
    }
   ],
   "source": [
    "# Splitting a string\n",
    "s1.split()"
   ]
  },
  {
   "cell_type": "code",
   "execution_count": null,
   "id": "4caeffb6",
   "metadata": {},
   "outputs": [],
   "source": []
  }
 ],
 "metadata": {
  "kernelspec": {
   "display_name": "Python 3",
   "language": "python",
   "name": "python3"
  },
  "language_info": {
   "codemirror_mode": {
    "name": "ipython",
    "version": 3
   },
   "file_extension": ".py",
   "mimetype": "text/x-python",
   "name": "python",
   "nbconvert_exporter": "python",
   "pygments_lexer": "ipython3",
   "version": "3.10.11"
  }
 },
 "nbformat": 4,
 "nbformat_minor": 5
}
