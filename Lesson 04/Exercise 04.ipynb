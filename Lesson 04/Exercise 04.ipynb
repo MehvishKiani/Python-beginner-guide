{
 "cells": [
  {
   "cell_type": "markdown",
   "id": "e14689ea",
   "metadata": {},
   "source": [
    "Exercise 01\n"
   ]
  },
  {
   "cell_type": "code",
   "execution_count": 1,
   "id": "1e778da0",
   "metadata": {},
   "outputs": [
    {
     "name": "stdout",
     "output_type": "stream",
     "text": [
      "Hello\n"
     ]
    }
   ],
   "source": [
    "# Create a string \"Hello World\" and print its first 5 characters\n",
    "s = \"Hello World\"\n",
    "print(s[:5])"
   ]
  },
  {
   "cell_type": "markdown",
   "id": "4248d877",
   "metadata": {},
   "source": [
    "Exercise 02\n"
   ]
  },
  {
   "cell_type": "code",
   "execution_count": 4,
   "id": "d5c72f40",
   "metadata": {},
   "outputs": [
    {
     "name": "stdout",
     "output_type": "stream",
     "text": [
      "nohtyP\n"
     ]
    }
   ],
   "source": [
    "# Reverse a string using slicing.\n",
    "s = \"Python\"\n",
    "print(s[::-1])"
   ]
  },
  {
   "cell_type": "markdown",
   "id": "c185c927",
   "metadata": {},
   "source": [
    "Exercise 03"
   ]
  },
  {
   "cell_type": "code",
   "execution_count": 5,
   "id": "86d48441",
   "metadata": {},
   "outputs": [
    {
     "name": "stdout",
     "output_type": "stream",
     "text": [
      "Number of vowels: 1\n"
     ]
    }
   ],
   "source": [
    "# Take a string input and count how many vowels it has\n",
    "s = input(\"Enter a string: \")\n",
    "vowels = \"aeiouAEIOU\"\n",
    "count = 0\n",
    "for char in s:\n",
    "    if char in vowels:\n",
    "        count += 1\n",
    "print(\"Number of vowels:\", count)\n"
   ]
  },
  {
   "cell_type": "code",
   "execution_count": null,
   "id": "5dc3bc7b",
   "metadata": {},
   "outputs": [],
   "source": []
  }
 ],
 "metadata": {
  "kernelspec": {
   "display_name": "Python 3",
   "language": "python",
   "name": "python3"
  },
  "language_info": {
   "codemirror_mode": {
    "name": "ipython",
    "version": 3
   },
   "file_extension": ".py",
   "mimetype": "text/x-python",
   "name": "python",
   "nbconvert_exporter": "python",
   "pygments_lexer": "ipython3",
   "version": "3.10.11"
  }
 },
 "nbformat": 4,
 "nbformat_minor": 5
}
