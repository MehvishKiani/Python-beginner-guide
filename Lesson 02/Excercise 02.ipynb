{
 "cells": [
  {
   "cell_type": "markdown",
   "id": "d2e8ecea",
   "metadata": {},
   "source": [
    "Exercise 01"
   ]
  },
  {
   "cell_type": "code",
   "execution_count": 1,
   "id": "88abc1da",
   "metadata": {},
   "outputs": [
    {
     "name": "stdout",
     "output_type": "stream",
     "text": [
      "Hello Mehvish, welcome to Python!\n"
     ]
    }
   ],
   "source": [
    "#Take user input for their name and print:\n",
    "#\"Hello <name>, welcome to Python!\"\n",
    "name= input(\"Enter the name\")\n",
    "print(f\"Hello {name}, welcome to Python!\")"
   ]
  },
  {
   "cell_type": "markdown",
   "id": "cb9dfefe",
   "metadata": {},
   "source": [
    "Exercise 02"
   ]
  },
  {
   "cell_type": "code",
   "execution_count": 2,
   "id": "c08903f0",
   "metadata": {},
   "outputs": [
    {
     "name": "stdout",
     "output_type": "stream",
     "text": [
      "Sum of two numbers:  11\n"
     ]
    }
   ],
   "source": [
    "# Ask the user for 2 numbers and print their sum\n",
    "\n",
    "a = int(input(\"ENter first number:\"))\n",
    "b = int(input(\"Enter Second Number\"))\n",
    "print(\"Sum of two numbers: \" , a+b)"
   ]
  },
  {
   "cell_type": "markdown",
   "id": "1caf9bdc",
   "metadata": {},
   "source": [
    "Exercise 03"
   ]
  },
  {
   "cell_type": "code",
   "execution_count": 3,
   "id": "8727d277",
   "metadata": {},
   "outputs": [
    {
     "name": "stdout",
     "output_type": "stream",
     "text": [
      "Temperature in Fahrenheit: 93.2\n"
     ]
    }
   ],
   "source": [
    "# Ask the user for temperature in Celsius and convert to Fahrenheit.\n",
    "celsius = float(input(\"Enter temperature in Celsius: \"))\n",
    "fahrenheit = (celsius * 9/5) + 32\n",
    "print(\"Temperature in Fahrenheit:\", fahrenheit)\n"
   ]
  }
 ],
 "metadata": {
  "kernelspec": {
   "display_name": "Python 3",
   "language": "python",
   "name": "python3"
  },
  "language_info": {
   "codemirror_mode": {
    "name": "ipython",
    "version": 3
   },
   "file_extension": ".py",
   "mimetype": "text/x-python",
   "name": "python",
   "nbconvert_exporter": "python",
   "pygments_lexer": "ipython3",
   "version": "3.10.11"
  }
 },
 "nbformat": 4,
 "nbformat_minor": 5
}
