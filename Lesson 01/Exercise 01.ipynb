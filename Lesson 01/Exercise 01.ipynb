{
 "cells": [
  {
   "cell_type": "markdown",
   "id": "a0871f6f",
   "metadata": {},
   "source": [
    "Exercise 1"
   ]
  },
  {
   "cell_type": "code",
   "execution_count": 4,
   "id": "52133f48",
   "metadata": {},
   "outputs": [
    {
     "name": "stdout",
     "output_type": "stream",
     "text": [
      "My name is Mehvish, I am 22 years old and 5.4 feet tall.\n"
     ]
    }
   ],
   "source": [
    "# Create variables for your name, age, and height and print them.\n",
    "name = \"Mehvish\"\n",
    "age = 22\n",
    "height = 5.4\n",
    "print(f\"My name is {name}, I am {age} years old and {height} feet tall.\")"
   ]
  },
  {
   "cell_type": "markdown",
   "id": "b762f7d8",
   "metadata": {},
   "source": [
    "Exercise 2"
   ]
  },
  {
   "cell_type": "code",
   "execution_count": 2,
   "id": "749acdd2",
   "metadata": {},
   "outputs": [
    {
     "name": "stdout",
     "output_type": "stream",
     "text": [
      "Mehvish Kiani\n",
      "22\n",
      "3.44\n",
      "BS Computer Science\n"
     ]
    }
   ],
   "source": [
    "#Create variables for your name, age, gpa, and Deg name. Print them.\n",
    "Name = \"Mehvish Kiani\"\n",
    "Age = 22\n",
    "Gpa = 3.44\n",
    "Deg = \"BS Computer Science\"\n",
    "\n",
    "print(Name)\n",
    "print(Age)\n",
    "print(Gpa)\n",
    "print(Deg)"
   ]
  },
  {
   "cell_type": "code",
   "execution_count": 6,
   "id": "b9213a61",
   "metadata": {},
   "outputs": [
    {
     "name": "stdout",
     "output_type": "stream",
     "text": [
      "Adding two numbers:  20.5\n"
     ]
    }
   ],
   "source": [
    "# Create two numbers, add them, and print the result.\n",
    "A = 10.5\n",
    "B = 10 \n",
    "print( \"Adding two numbers: \", A+B)"
   ]
  },
  {
   "cell_type": "code",
   "execution_count": 8,
   "id": "a3b3e0ba",
   "metadata": {},
   "outputs": [
    {
     "name": "stdout",
     "output_type": "stream",
     "text": [
      "<class 'int'>\n",
      "<class 'str'>\n",
      "<class 'float'>\n",
      "<class 'bool'>\n"
     ]
    }
   ],
   "source": [
    "# Check type of these: \"123\", 123, 12.3, True\n",
    "print(type( 123))\n",
    "print(type(\"123\"))\n",
    "print(type(12.3))\n",
    "print(type(True))"
   ]
  },
  {
   "cell_type": "markdown",
   "id": "ace956f6",
   "metadata": {},
   "source": [
    "Exercise 04"
   ]
  },
  {
   "cell_type": "code",
   "execution_count": 1,
   "id": "39f7abec",
   "metadata": {},
   "outputs": [
    {
     "name": "stdout",
     "output_type": "stream",
     "text": [
      "Sum: 30\n"
     ]
    }
   ],
   "source": [
    "# Write a program using literals, operators, and punctuators.\n",
    "x = 10   # literal\n",
    "y = 20\n",
    "z = x + y   # operator\n",
    "print(\"Sum:\", z)  # punctuators ()\n"
   ]
  },
  {
   "cell_type": "code",
   "execution_count": null,
   "id": "2383730e",
   "metadata": {},
   "outputs": [],
   "source": []
  }
 ],
 "metadata": {
  "kernelspec": {
   "display_name": "Python 3",
   "language": "python",
   "name": "python3"
  },
  "language_info": {
   "codemirror_mode": {
    "name": "ipython",
    "version": 3
   },
   "file_extension": ".py",
   "mimetype": "text/x-python",
   "name": "python",
   "nbconvert_exporter": "python",
   "pygments_lexer": "ipython3",
   "version": "3.10.11"
  }
 },
 "nbformat": 4,
 "nbformat_minor": 5
}
